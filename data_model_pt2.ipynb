{
 "cells": [
  {
   "cell_type": "code",
   "execution_count": 1,
   "metadata": {},
   "outputs": [],
   "source": [
    "import psycopg2\n",
    "import pandas as pd"
   ]
  },
  {
   "cell_type": "code",
   "execution_count": 2,
   "metadata": {},
   "outputs": [],
   "source": [
    "def create_database():\n",
    "    # connect to defaut database\n",
    "    conn=psycopg2.connect('host=127.0.1 dbname=postgres user=postgres password=root')\n",
    "    conn.set_session(autocommit=True)\n",
    "    cur= conn.cursor()\n",
    "\n",
    "    # create sparkfy database with utf8\n",
    "    cur.execute('drop database if exists accounts')\n",
    "    cur.execute('create database accounts')\n",
    "    \n",
    "    # close connection\n",
    "    conn.close()\n",
    "\n",
    "    # connect to sparkfy database\n",
    "    conn=psycopg2.connect('host=127.0.1 dbname=accounts user=postgres password=root')\n",
    "    cur= conn.cursor()\n",
    "\n",
    "    return cur, conn\n",
    "\n"
   ]
  },
  {
   "cell_type": "code",
   "execution_count": 3,
   "metadata": {},
   "outputs": [],
   "source": [
    "cur,conn = create_database()"
   ]
  },
  {
   "cell_type": "code",
   "execution_count": 4,
   "metadata": {},
   "outputs": [],
   "source": [
    "query_country=(\n",
    "    \"\"\"\n",
    "        create table if not exists accounts_country(\n",
    "            country_code varchar primary key,\n",
    "            short_name varchar,\n",
    "            table_name varchar,\n",
    "            long_name varchar,\n",
    "            currency_unit varchar\n",
    "        )\n",
    "\"\"\")\n",
    "cur.execute(query_country)\n",
    "conn.commit()"
   ]
  },
  {
   "cell_type": "code",
   "execution_count": 5,
   "metadata": {},
   "outputs": [],
   "source": [
    "query_data=(\n",
    "    \"\"\"\n",
    "        create table if not exists accounts_data(\n",
    "            country_name varchar,\n",
    "            country_code varchar,\n",
    "            indicator_name varchar,\n",
    "            year_1995 numeric,\n",
    "            year_2000 numeric,\n",
    "            year_2005 numeric,\n",
    "            year_2010 numeric,\n",
    "            year_2014 numeric\n",
    "            \n",
    "        )\n",
    "\"\"\")\n",
    "cur.execute(query_data)\n",
    "conn.commit()"
   ]
  },
  {
   "cell_type": "code",
   "execution_count": 6,
   "metadata": {},
   "outputs": [],
   "source": [
    "query_series=(\n",
    "    \"\"\"\n",
    "        create table if not exists accounts_series(\n",
    "            series_code varchar,\n",
    "            topic varchar,\n",
    "            indicator_name varchar,\n",
    "            long_definition varchar\n",
    "        )\n",
    "\"\"\")\n",
    "cur.execute(query_series)\n",
    "conn.commit()"
   ]
  },
  {
   "cell_type": "code",
   "execution_count": 7,
   "metadata": {},
   "outputs": [],
   "source": [
    "query_insert_country=(\n",
    "    \"\"\"\n",
    "        insert into accounts_country(\n",
    "            country_code,\n",
    "            short_name,\n",
    "            table_name,\n",
    "            long_name,\n",
    "            currency_unit\n",
    "        )values(%s,%s,%s,%s,%s)\n",
    "\"\"\")"
   ]
  },
  {
   "cell_type": "code",
   "execution_count": 8,
   "metadata": {},
   "outputs": [],
   "source": [
    "query_insert_data=(\n",
    "    \"\"\"\n",
    "        insert into accounts_data(\n",
    "            country_name,\n",
    "            country_code,\n",
    "            indicator_name,\n",
    "            year_1995,\n",
    "            year_2000,\n",
    "            year_2005,\n",
    "            year_2010,\n",
    "            year_2014\n",
    "        ) values()\n",
    "\"\"\")"
   ]
  },
  {
   "cell_type": "code",
   "execution_count": 9,
   "metadata": {},
   "outputs": [],
   "source": [
    "query_insert_series=(\n",
    "    \"\"\"\n",
    "        insert into accounts_series(\n",
    "            series_code,\n",
    "            topic,\n",
    "            indicator_name,\n",
    "            long_definition\n",
    "            \n",
    "        ) values(%s,%s,%s,%s)\n",
    "\"\"\")"
   ]
  },
  {
   "cell_type": "code",
   "execution_count": 10,
   "metadata": {},
   "outputs": [],
   "source": [
    "accounts_country= pd.read_csv('data/Wealth-AccountsCountry.csv')\n",
    "# selecting specific colluns\n",
    "accounts_country_clean= accounts_country[['Code','Short Name', 'Table Name','Long Name','Currency Unit']]"
   ]
  },
  {
   "cell_type": "code",
   "execution_count": 11,
   "metadata": {},
   "outputs": [],
   "source": [
    "accounts_data= pd.read_csv('data/Wealth-AccountData.csv')\n",
    "# dropping specific colluns. axis=1 -> collum\n",
    "# accounts_data_clean= accounts_data.drop(['Unnamed: 9'], axis=1)\n"
   ]
  },
  {
   "cell_type": "code",
   "execution_count": 12,
   "metadata": {},
   "outputs": [],
   "source": [
    "accounts_series= pd.read_csv('data/Wealth-AccountSeries.csv')\n",
    "accounts_series=accounts_series[['Code','Topic','Indicator Name','Long definition']]\n"
   ]
  },
  {
   "cell_type": "code",
   "execution_count": 15,
   "metadata": {},
   "outputs": [],
   "source": [
    "# lista = accounts_country_clean.head(35)\n",
    "# for i, row in lista.iterrows():\n",
    "#     cur.execute(query_insert_country,list(row))\n",
    "\n",
    "# just wanna commit in table\n",
    "# conn.commit()"
   ]
  },
  {
   "cell_type": "code",
   "execution_count": 14,
   "metadata": {},
   "outputs": [],
   "source": [
    "for i, row in accounts_series.iterrows():\n",
    "    cur.execute(query_insert_series,list(row))\n",
    "\n",
    "conn.commit()"
   ]
  }
 ],
 "metadata": {
  "kernelspec": {
   "display_name": "Python 3",
   "language": "python",
   "name": "python3"
  },
  "language_info": {
   "codemirror_mode": {
    "name": "ipython",
    "version": 3
   },
   "file_extension": ".py",
   "mimetype": "text/x-python",
   "name": "python",
   "nbconvert_exporter": "python",
   "pygments_lexer": "ipython3",
   "version": "3.8.10"
  },
  "orig_nbformat": 4
 },
 "nbformat": 4,
 "nbformat_minor": 2
}
