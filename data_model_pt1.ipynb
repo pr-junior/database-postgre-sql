{
 "cells": [
  {
   "cell_type": "code",
   "execution_count": 56,
   "metadata": {},
   "outputs": [],
   "source": [
    "import psycopg2"
   ]
  },
  {
   "cell_type": "code",
   "execution_count": 57,
   "metadata": {},
   "outputs": [],
   "source": [
    "conn=psycopg2.connect('host=127.0.1 dbname=database_students user=postgres password=root')"
   ]
  },
  {
   "cell_type": "code",
   "execution_count": 58,
   "metadata": {},
   "outputs": [],
   "source": [
    "cur= conn.cursor()\n"
   ]
  },
  {
   "cell_type": "code",
   "execution_count": 59,
   "metadata": {},
   "outputs": [],
   "source": [
    "conn.set_session(autocommit=True)"
   ]
  },
  {
   "cell_type": "code",
   "execution_count": 60,
   "metadata": {},
   "outputs": [],
   "source": [
    "# Creating database\n",
    "cur.execute('create table if not exists students (stundent_id int, name varchar, age int,\\\n",
    "            gender varchar, subject varchar, marks int);')"
   ]
  },
  {
   "cell_type": "code",
   "execution_count": 66,
   "metadata": {},
   "outputs": [],
   "source": [
    "# cur.execute('delete from students')"
   ]
  },
  {
   "cell_type": "code",
   "execution_count": 67,
   "metadata": {},
   "outputs": [],
   "source": [
    "# inserting the first data\n",
    "cur.execute(\"insert into students (stundent_id, name, age, gender, subject, marks)\\\n",
    "            values(%s,%s,%s,%s,%s,%s)\",\\\n",
    "            (1, 'Paulo', 24, 'Male','Python', 90))\n",
    "\n",
    "# inserting the second data\n",
    "cur.execute('insert into students (stundent_id, name, age, gender, subject, marks)\\\n",
    "            values(%s,%s,%s,%s,%s,%s)',\\\n",
    "            (2, 'Roberto', 29, 'Male','JavaScript', 81))"
   ]
  },
  {
   "cell_type": "code",
   "execution_count": 68,
   "metadata": {},
   "outputs": [
    {
     "name": "stdout",
     "output_type": "stream",
     "text": [
      "(1, 'Paulo', 24, 'Male', 'Python', 90)\n",
      "(2, 'Roberto', 29, 'Male', 'JavaScript', 81)\n"
     ]
    }
   ],
   "source": [
    "# selecting all users from students\n",
    "cur.execute('select * from students')\n",
    "row=cur.fetchone()\n",
    "while row:\n",
    "    print(row)\n",
    "    row=cur.fetchone()\n",
    "    "
   ]
  },
  {
   "cell_type": "code",
   "execution_count": null,
   "metadata": {},
   "outputs": [],
   "source": [
    "cur.close()\n",
    "conn.close()"
   ]
  }
 ],
 "metadata": {
  "kernelspec": {
   "display_name": "Python 3",
   "language": "python",
   "name": "python3"
  },
  "language_info": {
   "codemirror_mode": {
    "name": "ipython",
    "version": 3
   },
   "file_extension": ".py",
   "mimetype": "text/x-python",
   "name": "python",
   "nbconvert_exporter": "python",
   "pygments_lexer": "ipython3",
   "version": "3.8.10"
  },
  "orig_nbformat": 4
 },
 "nbformat": 4,
 "nbformat_minor": 2
}
